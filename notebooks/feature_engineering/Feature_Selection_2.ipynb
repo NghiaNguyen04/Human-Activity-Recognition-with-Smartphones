{
 "cells": [
  {
   "metadata": {},
   "cell_type": "markdown",
   "source": "## Machine Learning Models",
   "id": "11a9fb0442e85ffa"
  },
  {
   "metadata": {
    "ExecuteTime": {
     "end_time": "2025-05-15T14:34:49.087509Z",
     "start_time": "2025-05-15T14:34:47.625490Z"
    }
   },
   "cell_type": "code",
   "source": [
    "import pandas as pd\n",
    "from sklearn.ensemble import RandomForestClassifier\n",
    "from sklearn.linear_model import LogisticRegression\n",
    "from sklearn.svm import SVC\n",
    "from sklearn.model_selection import train_test_split\n",
    "from sklearn.metrics import accuracy_score, classification_report\n",
    "import warnings\n",
    "from sklearn.exceptions import ConvergenceWarning\n",
    "\n",
    "# Tắt cảnh báo ConvergenceWarning\n",
    "warnings.filterwarnings(\"ignore\", category=ConvergenceWarning)\n",
    "\n",
    "\n",
    "def classify(X, y, test_size=0.2, random_state=42):\n",
    "    X_train, X_test, y_train, y_test = train_test_split(X, y, test_size=test_size, random_state=random_state)\n",
    "    models = {\n",
    "        'RandomForest': RandomForestClassifier(random_state = random_state),\n",
    "        'LogisticRegression': LogisticRegression(max_iter=1000, random_state = random_state),\n",
    "        'SVC': SVC(random_state = random_state)\n",
    "    }\n",
    "    for name, model in models.items():\n",
    "        model.fit(X_train, y_train)\n",
    "        y_pred = model.predict(X_test)\n",
    "        acc = accuracy_score(y_test, y_pred)\n",
    "        print(f\"{name}: {acc}\")\n",
    "        # print(classification_report(y_test, y_pred))"
   ],
   "id": "b128f153d5876ded",
   "outputs": [],
   "execution_count": 3
  },
  {
   "metadata": {},
   "cell_type": "markdown",
   "source": "## Load Dataset",
   "id": "44f82367d2569eb4"
  },
  {
   "metadata": {
    "ExecuteTime": {
     "end_time": "2025-05-15T14:35:05.272647Z",
     "start_time": "2025-05-15T14:35:04.805816Z"
    }
   },
   "cell_type": "code",
   "source": [
    "# load dataset\n",
    "data_train_01 = pd.read_csv('../data/processed/train_LabelEncoder_noSubject.csv')\n",
    "X = data_train_01.drop(columns=['Activity_code', 'Activity'])\n",
    "y = data_train_01['Activity_code']\n",
    "\n",
    "print(\"Shape X:\", X.shape)\n",
    "print(\"unique y:\", y.unique())"
   ],
   "id": "34f926048f126db3",
   "outputs": [
    {
     "name": "stdout",
     "output_type": "stream",
     "text": [
      "Shape X: (7352, 561)\n",
      "unique y: [2 1 0 3 4 5]\n"
     ]
    }
   ],
   "execution_count": 7
  },
  {
   "metadata": {},
   "cell_type": "markdown",
   "source": "## Experiment 1: Removing features with low variance",
   "id": "70a9ada0df09362b"
  },
  {
   "metadata": {},
   "cell_type": "markdown",
   "source": "Vì dữ liệu đã được chuẩn hóa nên **threshold=0**",
   "id": "40e95d58f23b09c7"
  },
  {
   "metadata": {
    "ExecuteTime": {
     "end_time": "2025-05-15T14:35:35.907917Z",
     "start_time": "2025-05-15T14:35:35.847389Z"
    }
   },
   "cell_type": "code",
   "source": [
    "from sklearn.feature_selection import VarianceThreshold\n",
    "\n",
    "selector = VarianceThreshold(threshold=0.0)\n",
    "X_reduced_0 = selector.fit_transform(X)\n",
    "print(\"Shape X_reduced_0:\", X_reduced_0.shape)"
   ],
   "id": "a856c77be06a1f03",
   "outputs": [
    {
     "name": "stdout",
     "output_type": "stream",
     "text": [
      "Shape X_reduced_0: (7352, 561)\n"
     ]
    }
   ],
   "execution_count": 14
  },
  {
   "metadata": {
    "ExecuteTime": {
     "end_time": "2025-04-02T15:39:46.902956Z",
     "start_time": "2025-04-02T15:39:26.634093Z"
    }
   },
   "cell_type": "code",
   "source": "classify(X_reduced_0, y)",
   "id": "28b8e06032b1796b",
   "outputs": [
    {
     "name": "stdout",
     "output_type": "stream",
     "text": [
      "RandomForest: 0.9768864717878993\n",
      "LogisticRegression: 0.9809653297076818\n",
      "SVC: 0.9680489462950373\n"
     ]
    }
   ],
   "execution_count": 5
  },
  {
   "metadata": {},
   "cell_type": "markdown",
   "source": "**threshold=0.01**",
   "id": "35127313641d04b2"
  },
  {
   "metadata": {
    "ExecuteTime": {
     "end_time": "2025-05-15T14:35:46.899998Z",
     "start_time": "2025-05-15T14:35:46.840517Z"
    }
   },
   "cell_type": "code",
   "source": [
    "from sklearn.feature_selection import VarianceThreshold\n",
    "\n",
    "selector = VarianceThreshold(threshold=0.01)\n",
    "X_reduced_01 = selector.fit_transform(X)\n",
    "print(\"Shape X_reduced_01:\", X_reduced_01.shape)"
   ],
   "id": "7f9cc404461b4748",
   "outputs": [
    {
     "name": "stdout",
     "output_type": "stream",
     "text": [
      "Shape X_reduced_01: (7352, 524)\n"
     ]
    }
   ],
   "execution_count": 15
  },
  {
   "metadata": {
    "ExecuteTime": {
     "end_time": "2025-05-15T14:36:08.129640Z",
     "start_time": "2025-05-15T14:35:48.533819Z"
    }
   },
   "cell_type": "code",
   "source": "classify(X_reduced_01, y)",
   "id": "b2d0ba444192db0a",
   "outputs": [
    {
     "name": "stdout",
     "output_type": "stream",
     "text": [
      "RandomForest: 0.9809653297076818\n",
      "LogisticRegression: 0.9809653297076818\n",
      "SVC: 0.9687287559483345\n"
     ]
    }
   ],
   "execution_count": 16
  },
  {
   "metadata": {},
   "cell_type": "markdown",
   "source": [
    "#### Nhật xét:\n",
    "- Với **threshold=0.1**: Giảm số lượng features từ 561 xuống còn 524. Accuracy có tăng nhưng rất ít"
   ],
   "id": "99b437e23136e9cc"
  },
  {
   "metadata": {},
   "cell_type": "markdown",
   "source": "### Danh sách các đặc trưng bị loại bỏ",
   "id": "7c6917dfcf90a8ee"
  },
  {
   "metadata": {
    "ExecuteTime": {
     "end_time": "2025-05-15T14:42:20.216497Z",
     "start_time": "2025-05-15T14:42:20.165738Z"
    }
   },
   "cell_type": "code",
   "source": [
    "# Lưu tên đặc trưng ban đầu\n",
    "feature_names = X.columns.tolist()\n",
    "\n",
    "# Áp dụng VarianceThreshold\n",
    "selector = VarianceThreshold(threshold=0.01)\n",
    "X_reduced_01 = selector.fit_transform(X)\n",
    "\n",
    "# Lấy chỉ số đặc trưng được giữ lại\n",
    "selected_indices = selector.get_support(indices=True)\n",
    "all_indices = set(range(X.shape[1]))\n",
    "removed_indices = sorted(all_indices - set(selected_indices))\n",
    "\n",
    "# Lấy tên các đặc trưng bị loại bỏ\n",
    "removed_features = [feature_names[i] for i in removed_indices]\n",
    "\n",
    "print(\"Shape X:\", X.shape)\n",
    "print(\"Shape X_reduced_01:\", X_reduced_01.shape)\n",
    "print(f\"\\nSố đặc trưng bị loại bỏ: {len(removed_features)}\")\n",
    "print(\"\\nCác đặc trưng bị loại bỏ:\")\n",
    "for feat in removed_features:\n",
    "    print(feat)"
   ],
   "id": "b679169010180bce",
   "outputs": [
    {
     "name": "stdout",
     "output_type": "stream",
     "text": [
      "Shape X: (7352, 561)\n",
      "Shape X_reduced_01: (7352, 524)\n",
      "\n",
      "Số đặc trưng bị loại bỏ: 37\n",
      "\n",
      "Các đặc trưng bị loại bỏ:\n",
      "tBodyAcc-mean()-X\n",
      "tBodyAcc-mean()-Y\n",
      "tBodyAcc-mean()-Z\n",
      "tGravityAcc-std()-X\n",
      "tGravityAcc-std()-Y\n",
      "tGravityAcc-mad()-X\n",
      "tGravityAcc-mad()-Y\n",
      "tGravityAcc-iqr()-X\n",
      "tGravityAcc-iqr()-Y\n",
      "fBodyAcc-bandsEnergy()-25,32.2\n",
      "fBodyAcc-bandsEnergy()-33,40.2\n",
      "fBodyAcc-bandsEnergy()-33,48.2\n",
      "fBodyAcc-bandsEnergy()-25,48.2\n",
      "fBodyAccJerk-bandsEnergy()-57,64\n",
      "fBodyAccJerk-bandsEnergy()-57,64.1\n",
      "fBodyAccJerk-bandsEnergy()-25,32.2\n",
      "fBodyAccJerk-bandsEnergy()-33,40.2\n",
      "fBodyAccJerk-bandsEnergy()-33,48.2\n",
      "fBodyAccJerk-bandsEnergy()-25,48.2\n",
      "fBodyGyro-bandsEnergy()-25,32\n",
      "fBodyGyro-bandsEnergy()-41,48\n",
      "fBodyGyro-bandsEnergy()-49,56\n",
      "fBodyGyro-bandsEnergy()-57,64\n",
      "fBodyGyro-bandsEnergy()-49,64\n",
      "fBodyGyro-bandsEnergy()-25,48\n",
      "fBodyGyro-bandsEnergy()-25,32.1\n",
      "fBodyGyro-bandsEnergy()-33,40.1\n",
      "fBodyGyro-bandsEnergy()-57,64.1\n",
      "fBodyGyro-bandsEnergy()-33,48.1\n",
      "fBodyGyro-bandsEnergy()-25,48.1\n",
      "fBodyGyro-bandsEnergy()-25,32.2\n",
      "fBodyGyro-bandsEnergy()-33,40.2\n",
      "fBodyGyro-bandsEnergy()-41,48.2\n",
      "fBodyGyro-bandsEnergy()-57,64.2\n",
      "fBodyGyro-bandsEnergy()-33,48.2\n",
      "fBodyGyro-bandsEnergy()-49,64.2\n",
      "fBodyGyro-bandsEnergy()-25,48.2\n"
     ]
    }
   ],
   "execution_count": 17
  },
  {
   "metadata": {},
   "cell_type": "markdown",
   "source": "#### So với các đặc trưng đã được loại bỏ bởi độ tương quan cao",
   "id": "6d8e25f102ad5bf8"
  },
  {
   "metadata": {
    "ExecuteTime": {
     "end_time": "2025-05-15T14:47:16.026971Z",
     "start_time": "2025-05-15T14:47:15.882948Z"
    }
   },
   "cell_type": "code",
   "source": [
    "import pandas as pd\n",
    "\n",
    "# Đọc dữ liệu sau khi giảm chiều bằng correlation\n",
    "df_corr = pd.read_csv(\"../data/processed/train_reduced_Correlation.csv\")\n",
    "\n",
    "# Lấy tên các cột (đặc trưng) còn lại\n",
    "features_corr = df_corr.drop(columns=['Activity_code', 'Activity'], errors='ignore').columns.tolist()\n"
   ],
   "id": "13462d8288a7aaa3",
   "outputs": [],
   "execution_count": 19
  },
  {
   "metadata": {
    "ExecuteTime": {
     "end_time": "2025-05-15T14:47:17.180385Z",
     "start_time": "2025-05-15T14:47:17.165388Z"
    }
   },
   "cell_type": "code",
   "source": [
    "\n",
    "removed_by_both = set(removed_features).intersection(set(feature_names) - set(features_corr))\n",
    "print(f\"Đặc trưng bị loại bởi cả hai phương pháp ({len(removed_by_both)}):\")\n",
    "print(removed_by_both)\n"
   ],
   "id": "fe13df1f66d8884a",
   "outputs": [
    {
     "name": "stdout",
     "output_type": "stream",
     "text": [
      "Đặc trưng bị loại bởi cả hai phương pháp (18):\n",
      "{'tGravityAcc-mad()-X', 'tGravityAcc-mad()-Y', 'fBodyGyro-bandsEnergy()-25,48.2', 'tGravityAcc-iqr()-Y', 'fBodyGyro-bandsEnergy()-25,48', 'fBodyAccJerk-bandsEnergy()-25,48.2', 'fBodyGyro-bandsEnergy()-49,64.2', 'fBodyAccJerk-bandsEnergy()-33,48.2', 'fBodyGyro-bandsEnergy()-33,48.1', 'fBodyGyro-bandsEnergy()-33,48.2', 'tGravityAcc-iqr()-X', 'fBodyAcc-bandsEnergy()-25,48.2', 'fBodyAccJerk-bandsEnergy()-33,40.2', 'fBodyGyro-bandsEnergy()-57,64', 'fBodyAcc-bandsEnergy()-33,48.2', 'fBodyAccJerk-bandsEnergy()-25,32.2', 'fBodyGyro-bandsEnergy()-49,64', 'fBodyGyro-bandsEnergy()-25,48.1'}\n"
     ]
    }
   ],
   "execution_count": 20
  },
  {
   "metadata": {
    "ExecuteTime": {
     "end_time": "2025-05-15T14:47:19.589244Z",
     "start_time": "2025-05-15T14:47:19.571187Z"
    }
   },
   "cell_type": "code",
   "source": [
    "only_by_variance = set(removed_features) - (set(feature_names) - set(features_corr))\n",
    "print(f\"\\nĐặc trưng chỉ bị loại bởi VarianceThreshold ({len(only_by_variance)}):\")\n",
    "print(only_by_variance)\n"
   ],
   "id": "d8849776787634d6",
   "outputs": [
    {
     "name": "stdout",
     "output_type": "stream",
     "text": [
      "\n",
      "Đặc trưng chỉ bị loại bởi VarianceThreshold (19):\n",
      "{'fBodyAcc-bandsEnergy()-33,40.2', 'tBodyAcc-mean()-Z', 'tGravityAcc-std()-X', 'fBodyGyro-bandsEnergy()-49,56', 'fBodyGyro-bandsEnergy()-25,32.2', 'fBodyAcc-bandsEnergy()-25,32.2', 'fBodyGyro-bandsEnergy()-41,48', 'fBodyAccJerk-bandsEnergy()-57,64.1', 'tGravityAcc-std()-Y', 'tBodyAcc-mean()-Y', 'fBodyGyro-bandsEnergy()-57,64.2', 'fBodyGyro-bandsEnergy()-33,40.2', 'fBodyGyro-bandsEnergy()-25,32.1', 'tBodyAcc-mean()-X', 'fBodyGyro-bandsEnergy()-25,32', 'fBodyGyro-bandsEnergy()-41,48.2', 'fBodyGyro-bandsEnergy()-57,64.1', 'fBodyAccJerk-bandsEnergy()-57,64', 'fBodyGyro-bandsEnergy()-33,40.1'}\n"
     ]
    }
   ],
   "execution_count": 21
  },
  {
   "metadata": {
    "ExecuteTime": {
     "end_time": "2025-05-15T14:47:22.646421Z",
     "start_time": "2025-05-15T14:47:22.633941Z"
    }
   },
   "cell_type": "code",
   "source": [
    "only_by_correlation = (set(feature_names) - set(features_corr)) - set(removed_features)\n",
    "print(f\"\\nĐặc trưng chỉ bị loại bởi Correlation ({len(only_by_correlation)}):\")\n",
    "print(only_by_correlation)\n"
   ],
   "id": "1c7c821f14d6a470",
   "outputs": [
    {
     "name": "stdout",
     "output_type": "stream",
     "text": [
      "\n",
      "Đặc trưng chỉ bị loại bởi Correlation (341):\n",
      "{'fBodyBodyGyroJerkMag-mad()', 'fBodyAccMag-mad()', 'tBodyGyroMag-energy()', 'tBodyGyroJerk-mad()-Z', 'fBodyAcc-std()-X', 'tBodyGyro-min()-Y', 'fBodyBodyAccJerkMag-max()', 'fBodyAccJerk-bandsEnergy()-17,24', 'fBodyAcc-bandsEnergy()-49,64.2', 'tGravityAcc-arCoeff()-Y,3', 'tBodyAccMag-mad()', 'fBodyBodyGyroMag-kurtosis()', 'tBodyGyro-max()-X', 'fBodyAcc-energy()-Z', 'fBodyAcc-iqr()-Z', 'tBodyAcc-energy()-Z', 'tBodyGyroMag-mad()', 'tBodyAccJerk-min()-Y', 'tBodyGyroJerkMag-sma()', 'tBodyAccJerk-arCoeff()-Y,1', 'tGravityAccMag-sma()', 'fBodyGyro-bandsEnergy()-49,64.1', 'fBodyAccMag-sma()', 'fBodyAccJerk-std()-Y', 'fBodyGyro-kurtosis()-Z', 'tGravityAccMag-iqr()', 'fBodyAccJerk-bandsEnergy()-1,16.2', 'fBodyAcc-bandsEnergy()-17,32.1', 'fBodyAccJerk-entropy()-Y', 'tBodyAcc-std()-Y', 'fBodyAccJerk-bandsEnergy()-1,8.2', 'tGravityAccMag-mean()', 'tGravityAccMag-max()', 'fBodyAcc-iqr()-Y', 'tGravityAcc-energy()-X', 'fBodyAcc-max()-Z', 'fBodyAccJerk-bandsEnergy()-41,48', 'fBodyAccJerk-bandsEnergy()-17,32.2', 'tGravityAcc-iqr()-Z', 'tBodyAcc-energy()-X', 'tBodyGyroJerkMag-max()', 'fBodyAccMag-mean()', 'tGravityAcc-arCoeff()-X,4', 'fBodyAccJerk-iqr()-X', 'tBodyGyroJerk-mad()-X', 'fBodyAcc-bandsEnergy()-1,24', 'fBodyGyro-max()-X', 'tBodyGyroJerk-max()-Y', 'tBodyAccMag-arCoeff()2', 'fBodyAcc-kurtosis()-Y', 'fBodyBodyAccJerkMag-iqr()', 'fBodyGyro-bandsEnergy()-1,16.2', 'fBodyAcc-bandsEnergy()-49,64.1', 'tBodyAccJerk-max()-Y', 'tGravityAcc-max()-Y', 'tBodyAccMag-iqr()', 'fBodyGyro-energy()-X', 'tBodyGyroJerk-arCoeff()-Y,1', 'fBodyAcc-kurtosis()-Z', 'fBodyAcc-energy()-X', 'fBodyAccJerk-energy()-X', 'fBodyAccJerk-bandsEnergy()-1,16', 'tBodyAcc-sma()', 'tGravityAccMag-std()', 'fBodyGyro-std()-X', 'fBodyAcc-bandsEnergy()-1,24.1', 'tBodyGyro-iqr()-X', 'fBodyAccJerk-max()-X', 'fBodyGyro-bandsEnergy()-33,48', 'fBodyAcc-bandsEnergy()-25,48.1', 'fBodyBodyGyroMag-entropy()', 'tBodyAcc-max()-X', 'tGravityAcc-min()-X', 'tGravityAccMag-arCoeff()3', 'fBodyAccMag-iqr()', 'tBodyAcc-max()-Y', 'tGravityAccMag-mad()', 'tBodyGyro-arCoeff()-X,2', 'tBodyGyro-mad()-Y', 'fBodyBodyGyroJerkMag-entropy()', 'tBodyGyroMag-sma()', 'tGravityAcc-arCoeff()-X,2', 'tBodyGyroJerk-arCoeff()-Z,1', 'fBodyBodyGyroJerkMag-std()', 'tGravityAcc-min()-Y', 'tBodyAcc-min()-X', 'tBodyGyroJerk-iqr()-X', 'fBodyGyro-mean()-Y', 'fBodyAcc-bandsEnergy()-1,24.2', 'fBodyAccJerk-iqr()-Z', 'tGravityAcc-mad()-Z', 'tBodyAccJerkMag-std()', 'fBodyGyro-iqr()-X', 'tBodyGyroJerk-max()-Z', 'fBodyAccJerk-bandsEnergy()-33,40', 'fBodyAcc-bandsEnergy()-9,16', 'tBodyAccJerkMag-energy()', 'fBodyGyro-entropy()-Z', 'fBodyGyro-bandsEnergy()-17,32.2', 'tBodyAccJerk-sma()', 'fBodyAccJerk-bandsEnergy()-17,32', 'fBodyAcc-bandsEnergy()-33,48.1', 'tBodyGyroJerkMag-std()', 'fBodyAcc-max()-X', 'fBodyAccJerk-energy()-Y', 'tBodyGyro-mad()-Z', 'fBodyBodyGyroMag-max()', 'tBodyAccJerkMag-mean()', 'angle(Z,gravityMean)', 'fBodyAccJerk-bandsEnergy()-33,48.1', 'fBodyBodyAccJerkMag-energy()', 'fBodyAcc-mad()-Z', 'fBodyGyro-bandsEnergy()-17,24.2', 'fBodyGyro-bandsEnergy()-1,8', 'tBodyAccMag-entropy()', 'fBodyAccJerk-bandsEnergy()-1,8.1', 'fBodyAcc-kurtosis()-X', 'fBodyBodyGyroMag-mad()', 'fBodyAcc-bandsEnergy()-33,48', 'fBodyBodyGyroJerkMag-max()', 'tBodyGyro-std()-X', 'fBodyAcc-bandsEnergy()-9,16.1', 'tBodyAccJerk-max()-X', 'tBodyAccMag-sma()', 'tBodyAccJerk-std()-Z', 'tGravityAcc-arCoeff()-Y,2', 'fBodyGyro-bandsEnergy()-17,24', 'tBodyAcc-iqr()-X', 'fBodyAccJerk-bandsEnergy()-1,24.1', 'fBodyAccJerk-energy()-Z', 'tGravityAccMag-energy()', 'tBodyAccMag-std()', 'fBodyGyro-energy()-Z', 'fBodyAcc-bandsEnergy()-49,64', 'tBodyGyroJerk-entropy()-Y', 'tBodyGyroJerk-energy()-Z', 'fBodyAccJerk-mean()-Y', 'tGravityAcc-arCoeff()-Z,4', 'tBodyAccJerk-arCoeff()-Z,1', 'fBodyAcc-bandsEnergy()-1,16.1', 'tBodyAccJerk-std()-X', 'tBodyAccJerkMag-iqr()', 'tBodyAccJerk-iqr()-X', 'fBodyAccJerk-mean()-X', 'fBodyAccJerk-bandsEnergy()-33,40.1', 'tBodyAcc-iqr()-Y', 'tBodyGyro-std()-Y', 'fBodyAccJerk-bandsEnergy()-17,24.2', 'tBodyGyro-energy()-Z', 'fBodyAccJerk-bandsEnergy()-49,64.2', 'angle(Y,gravityMean)', 'fBodyAcc-bandsEnergy()-1,16', 'fBodyGyro-mad()-Y', 'fBodyAccJerk-meanFreq()-Y', 'tBodyAccMag-energy()', 'fBodyGyro-kurtosis()-X', 'fBodyAccJerk-bandsEnergy()-9,16', 'tBodyAcc-energy()-Y', 'fBodyBodyGyroMag-sma()', 'fBodyAccJerk-bandsEnergy()-25,48.1', 'fBodyAccJerk-bandsEnergy()-1,24', 'tBodyGyro-max()-Y', 'fBodyAccJerk-mad()-X', 'fBodyAccJerk-bandsEnergy()-25,32', 'tBodyAccJerk-arCoeff()-X,1', 'tBodyGyroJerkMag-entropy()', 'fBodyAccJerk-bandsEnergy()-17,32.1', 'tBodyGyroJerk-std()-X', 'fBodyAcc-entropy()-Z', 'tBodyAccJerk-mad()-Y', 'fBodyGyro-bandsEnergy()-1,24', 'tBodyGyro-energy()-X', 'tBodyAccJerkMag-max()', 'fBodyAcc-mad()-X', 'tBodyGyroJerk-sma()', 'tBodyAcc-max()-Z', 'fBodyAccJerk-kurtosis()-X', 'fBodyGyro-iqr()-Y', 'tGravityAccMag-arCoeff()4', 'tBodyAccJerkMag-entropy()', 'fBodyAccJerk-iqr()-Y', 'tBodyAcc-mad()-X', 'tBodyGyroJerk-entropy()-Z', 'tBodyAccJerk-std()-Y', 'tBodyAccMag-max()', 'tBodyAcc-mad()-Z', 'fBodyGyro-std()-Y', 'tBodyAccJerk-iqr()-Z', 'tBodyGyro-min()-X', 'fBodyGyro-bandsEnergy()-1,16.1', 'tBodyGyroMag-std()', 'tBodyGyroJerkMag-mad()', 'fBodyGyro-bandsEnergy()-1,24.2', 'tBodyAccJerk-min()-X', 'tBodyAccJerk-energy()-X', 'fBodyAccJerk-kurtosis()-Z', 'tBodyGyro-max()-Z', 'tBodyAccMag-mean()', 'fBodyGyro-entropy()-Y', 'tBodyGyro-min()-Z', 'fBodyGyro-energy()-Y', 'fBodyAccJerk-bandsEnergy()-49,64', 'fBodyAcc-mean()-Y', 'fBodyAcc-std()-Y', 'fBodyAccJerk-entropy()-X', 'fBodyAcc-iqr()-X', 'tBodyGyroJerk-min()-Z', 'fBodyBodyAccJerkMag-mean()', 'tBodyAccJerk-iqr()-Y', 'fBodyAcc-entropy()-Y', 'fBodyAccJerk-meanFreq()-X', 'fBodyAccMag-max()', 'fBodyGyro-bandsEnergy()-17,32.1', 'fBodyAcc-mad()-Y', 'tBodyAccJerk-entropy()-X', 'fBodyGyro-bandsEnergy()-17,32', 'fBodyAcc-bandsEnergy()-17,32', 'tBodyAcc-iqr()-Z', 'fBodyBodyGyroMag-iqr()', 'tGravityAcc-max()-Z', 'tBodyGyro-iqr()-Z', 'fBodyGyro-bandsEnergy()-1,24.1', 'fBodyAccJerk-mad()-Y', 'fBodyAccJerk-meanFreq()-Z', 'tBodyGyroJerkMag-mean()', 'fBodyAcc-energy()-Y', 'tBodyAccJerk-min()-Z', 'fBodyAccJerk-bandsEnergy()-17,24.1', 'tBodyGyro-sma()', 'tBodyGyroJerk-min()-X', 'fBodyAccJerk-max()-Y', 'tBodyGyroMag-arCoeff()2', 'tBodyGyroJerk-mad()-Y', 'tGravityAcc-arCoeff()-Z,3', 'fBodyGyro-entropy()-X', 'fBodyAccJerk-bandsEnergy()-1,8', 'fBodyGyro-mean()-X', 'fBodyGyro-sma()', 'fBodyAcc-bandsEnergy()-17,32.2', 'fBodyAcc-bandsEnergy()-17,24.1', 'fBodyAccJerk-bandsEnergy()-1,24.2', 'tBodyAccJerk-entropy()-Y', 'fBodyBodyAccJerkMag-sma()', 'fBodyGyro-mean()-Z', 'tBodyGyroJerk-max()-X', 'tBodyGyroJerk-iqr()-Z', 'fBodyGyro-bandsEnergy()-1,8.2', 'fBodyAcc-std()-Z', 'fBodyAcc-bandsEnergy()-25,48', 'fBodyBodyGyroMag-mean()', 'tBodyGyro-iqr()-Y', 'fBodyBodyGyroJerkMag-kurtosis()', 'fBodyAccJerk-mean()-Z', 'fBodyAccJerk-kurtosis()-Y', 'tBodyGyroJerk-iqr()-Y', 'fBodyBodyGyroJerkMag-iqr()', 'tBodyGyroMag-max()', 'tBodyGyroJerkMag-energy()', 'fBodyAccMag-energy()', 'tBodyAccJerk-energy()-Y', 'tBodyGyroJerk-std()-Z', 'tBodyGyroJerk-min()-Y', 'fBodyAcc-bandsEnergy()-17,24.2', 'fBodyGyro-bandsEnergy()-1,16', 'fBodyBodyAccJerkMag-entropy()', 'tGravityAcc-arCoeff()-Y,4', 'fBodyBodyGyroMag-std()', 'tGravityAcc-arCoeff()-Z,2', 'fBodyAccJerk-bandsEnergy()-49,64.1', 'fBodyGyro-iqr()-Z', 'tBodyGyro-std()-Z', 'tBodyGyro-energy()-Y', 'tBodyAcc-min()-Z', 'angle(X,gravityMean)', 'fBodyBodyGyroJerkMag-mean()', 'tBodyAccJerkMag-sma()', 'fBodyBodyAccJerkMag-mad()', 'fBodyGyro-max()-Y', 'fBodyAccJerk-std()-Z', 'fBodyAccMag-entropy()', 'tGravityAcc-arCoeff()-X,3', 'fBodyAccJerk-max()-Z', 'tBodyAcc-min()-Y', 'tGravityAccMag-arCoeff()1', 'fBodyAccJerk-bandsEnergy()-41,48.2', 'fBodyBodyGyroMag-energy()', 'fBodyAcc-bandsEnergy()-1,8', 'fBodyAcc-bandsEnergy()-1,16.2', 'fBodyGyro-mad()-X', 'fBodyGyro-bandsEnergy()-1,8.1', 'tGravityAcc-max()-X', 'fBodyAcc-bandsEnergy()-1,8.2', 'tBodyGyroMag-iqr()', 'tBodyAccJerk-energy()-Z', 'fBodyGyro-bandsEnergy()-17,24.1', 'tBodyAccJerk-mad()-Z', 'fBodyAcc-sma()', 'fBodyGyro-kurtosis()-Y', 'tBodyGyro-mad()-X', 'tBodyGyroJerk-std()-Y', 'fBodyAccJerk-bandsEnergy()-9,16.2', 'tBodyGyro-arCoeff()-Z,2', 'fBodyAccJerk-entropy()-Z', 'fBodyBodyAccJerkMag-std()', 'tBodyAccJerkMag-mad()', 'fBodyAccMag-std()', 'tGravityAcc-min()-Z', 'fBodyAccJerk-sma()', 'fBodyAccJerk-bandsEnergy()-25,48', 'tBodyGyroJerk-entropy()-X', 'fBodyBodyGyroJerkMag-sma()', 'tBodyAccJerk-entropy()-Z', 'fBodyAccJerk-std()-X', 'tGravityAccMag-min()', 'fBodyAcc-entropy()-X', 'tGravityAccMag-entropy()', 'fBodyAcc-mean()-Z', 'tBodyGyroMag-mean()', 'tBodyAccJerk-max()-Z', 'fBodyAcc-max()-Y', 'fBodyAccJerk-mad()-Z', 'fBodyAccJerk-bandsEnergy()-25,32.1', 'fBodyBodyAccJerkMag-kurtosis()', 'tBodyAccJerk-mad()-X', 'tGravityAccMag-arCoeff()2', 'tBodyGyroJerk-energy()-X', 'tBodyAcc-mad()-Y', 'fBodyGyro-max()-Z', 'fBodyAcc-mean()-X', 'fBodyGyro-mad()-Z', 'fBodyGyro-bandsEnergy()-9,16', 'fBodyAccJerk-bandsEnergy()-1,16.1', 'fBodyGyro-std()-Z', 'fBodyAccMag-kurtosis()', 'fBodyAccJerk-bandsEnergy()-9,16.1', 'tBodyGyroJerk-arCoeff()-X,1', 'fBodyAcc-bandsEnergy()-1,8.1', 'tBodyGyroJerkMag-iqr()', 'fBodyBodyGyroJerkMag-energy()', 'fBodyAccJerk-bandsEnergy()-33,48', 'fBodyAccJerk-bandsEnergy()-41,48.1'}\n"
     ]
    }
   ],
   "execution_count": 22
  },
  {
   "metadata": {
    "ExecuteTime": {
     "end_time": "2025-05-15T14:48:06.954172Z",
     "start_time": "2025-05-15T14:48:05.963921Z"
    }
   },
   "cell_type": "code",
   "source": [
    "from matplotlib_venn import venn2\n",
    "import matplotlib.pyplot as plt\n",
    "\n",
    "venn2(\n",
    "    subsets=(set(removed_features), set(feature_names) - set(features_corr)),\n",
    "    set_labels=('VarianceThreshold', 'Correlation')\n",
    ")\n",
    "plt.title(\"So sánh đặc trưng bị loại\")\n",
    "plt.show()\n"
   ],
   "id": "72af1b517a452b1c",
   "outputs": [
    {
     "data": {
      "text/plain": [
       "<Figure size 640x480 with 1 Axes>"
      ],
      "image/png": "[encoded data removed]"
     },
     "metadata": {},
     "output_type": "display_data"
    }
   ],
   "execution_count": 23
  },
  {
   "metadata": {},
   "cell_type": "markdown",
   "source": "## Experiment 2: Univariate feature selection",
   "id": "f2682163c4e9ef25"
  },
  {
   "metadata": {},
   "cell_type": "markdown",
   "source": "Sử dụng kết quả từ **Experiment 1** với **threshold=0.01**",
   "id": "e7851970d741ed06"
  },
  {
   "metadata": {
    "ExecuteTime": {
     "end_time": "2025-05-15T14:48:51.093557Z",
     "start_time": "2025-05-15T14:48:31.530831Z"
    }
   },
   "cell_type": "code",
   "source": [
    "from sklearn.feature_selection import SelectKBest, f_classif, SelectPercentile\n",
    "\n",
    "selector = SelectPercentile(f_classif, percentile=95)\n",
    "X_reduced_01_95 = selector.fit_transform(X_reduced_01, y)\n",
    "print(\"Shape X_reduced_01_95:\", X_reduced_01_95.shape)\n",
    "classify(X_reduced_01_95, y)"
   ],
   "id": "903c93e74aff7d2b",
   "outputs": [
    {
     "name": "stdout",
     "output_type": "stream",
     "text": [
      "Shape X_reduced_01_95: (7352, 497)\n",
      "RandomForest: 0.9796057104010877\n",
      "LogisticRegression: 0.9809653297076818\n",
      "SVC: 0.9687287559483345\n"
     ]
    }
   ],
   "execution_count": 24
  },
  {
   "metadata": {},
   "cell_type": "markdown",
   "source": [
    "#### Nhật xét: \n",
    "- Với **percentile=95**: Giảm số lượng features từ 524 xuống còn 497. Accuracy giảm nhẹ ở mô hình RandomForest, giữ nguyên kết quả ở mô hình LogisticRegression và SVC"
   ],
   "id": "de05e7b868792b1c"
  },
  {
   "metadata": {},
   "cell_type": "markdown",
   "source": "## Experiment 3:  Recursive feature elimination",
   "id": "622e3b6df34458a9"
  },
  {
   "metadata": {},
   "cell_type": "markdown",
   "source": "Tiếp tục với Experiment 1:",
   "id": "3e33406664b42e1f"
  },
  {
   "metadata": {
    "ExecuteTime": {
     "end_time": "2025-04-02T15:55:01.222567Z",
     "start_time": "2025-04-02T15:53:48.006498Z"
    }
   },
   "cell_type": "code",
   "source": [
    "from sklearn.feature_selection import RFE, RFECV\n",
    "from sklearn.linear_model import LogisticRegression\n",
    "from sklearn.model_selection import StratifiedKFold\n",
    "\n",
    "X = X_reduced_01\n",
    "y = y\n",
    "\n",
    "estimator = LogisticRegression(max_iter=1)\n",
    "\n",
    "rfecv = RFECV(estimator, step=1, cv=StratifiedKFold(5), scoring='accuracy')\n",
    "rfecv.fit(X, y)"
   ],
   "id": "400d1c57ab88721e",
   "outputs": [
    {
     "data": {
      "text/plain": [
       "RFECV(cv=StratifiedKFold(n_splits=5, random_state=None, shuffle=False),\n",
       "      estimator=LogisticRegression(max_iter=1), scoring='accuracy')"
      ],
      "text/html": [
       "<style>#sk-container-id-1 {color: black;}#sk-container-id-1 pre{padding: 0;}#sk-container-id-1 div.sk-toggleable {background-color: white;}#sk-container-id-1 label.sk-toggleable__label {cursor: pointer;display: block;width: 100%;margin-bottom: 0;padding: 0.3em;box-sizing: border-box;text-align: center;}#sk-container-id-1 label.sk-toggleable__label-arrow:before {content: \"▸\";float: left;margin-right: 0.25em;color: #696969;}#sk-container-id-1 label.sk-toggleable__label-arrow:hover:before {color: black;}#sk-container-id-1 div.sk-estimator:hover label.sk-toggleable__label-arrow:before {color: black;}#sk-container-id-1 div.sk-toggleable__content {max-height: 0;max-width: 0;overflow: hidden;text-align: left;background-color: #f0f8ff;}#sk-container-id-1 div.sk-toggleable__content pre {margin: 0.2em;color: black;border-radius: 0.25em;background-color: #f0f8ff;}#sk-container-id-1 input.sk-toggleable__control:checked~div.sk-toggleable__content {max-height: 200px;max-width: 100%;overflow: auto;}#sk-container-id-1 input.sk-toggleable__control:checked~label.sk-toggleable__label-arrow:before {content: \"▾\";}#sk-container-id-1 div.sk-estimator input.sk-toggleable__control:checked~label.sk-toggleable__label {background-color: #d4ebff;}#sk-container-id-1 div.sk-label input.sk-toggleable__control:checked~label.sk-toggleable__label {background-color: #d4ebff;}#sk-container-id-1 input.sk-hidden--visually {border: 0;clip: rect(1px 1px 1px 1px);clip: rect(1px, 1px, 1px, 1px);height: 1px;margin: -1px;overflow: hidden;padding: 0;position: absolute;width: 1px;}#sk-container-id-1 div.sk-estimator {font-family: monospace;background-color: #f0f8ff;border: 1px dotted black;border-radius: 0.25em;box-sizing: border-box;margin-bottom: 0.5em;}#sk-container-id-1 div.sk-estimator:hover {background-color: #d4ebff;}#sk-container-id-1 div.sk-parallel-item::after {content: \"\";width: 100%;border-bottom: 1px solid gray;flex-grow: 1;}#sk-container-id-1 div.sk-label:hover label.sk-toggleable__label {background-color: #d4ebff;}#sk-container-id-1 div.sk-serial::before {content: \"\";position: absolute;border-left: 1px solid gray;box-sizing: border-box;top: 0;bottom: 0;left: 50%;z-index: 0;}#sk-container-id-1 div.sk-serial {display: flex;flex-direction: column;align-items: center;background-color: white;padding-right: 0.2em;padding-left: 0.2em;position: relative;}#sk-container-id-1 div.sk-item {position: relative;z-index: 1;}#sk-container-id-1 div.sk-parallel {display: flex;align-items: stretch;justify-content: center;background-color: white;position: relative;}#sk-container-id-1 div.sk-item::before, #sk-container-id-1 div.sk-parallel-item::before {content: \"\";position: absolute;border-left: 1px solid gray;box-sizing: border-box;top: 0;bottom: 0;left: 50%;z-index: -1;}#sk-container-id-1 div.sk-parallel-item {display: flex;flex-direction: column;z-index: 1;position: relative;background-color: white;}#sk-container-id-1 div.sk-parallel-item:first-child::after {align-self: flex-end;width: 50%;}#sk-container-id-1 div.sk-parallel-item:last-child::after {align-self: flex-start;width: 50%;}#sk-container-id-1 div.sk-parallel-item:only-child::after {width: 0;}#sk-container-id-1 div.sk-dashed-wrapped {border: 1px dashed gray;margin: 0 0.4em 0.5em 0.4em;box-sizing: border-box;padding-bottom: 0.4em;background-color: white;}#sk-container-id-1 div.sk-label label {font-family: monospace;font-weight: bold;display: inline-block;line-height: 1.2em;}#sk-container-id-1 div.sk-label-container {text-align: center;}#sk-container-id-1 div.sk-container {/* jupyter's `normalize.less` sets `[hidden] { display: none; }` but bootstrap.min.css set `[hidden] { display: none !important; }` so we also need the `!important` here to be able to override the default hidden behavior on the sphinx rendered scikit-learn.org. See: https://github.com/scikit-learn/scikit-learn/issues/21755 */display: inline-block !important;position: relative;}#sk-container-id-1 div.sk-text-repr-fallback {display: none;}</style><div id=\"sk-container-id-1\" class=\"sk-top-container\"><div class=\"sk-text-repr-fallback\"><pre>RFECV(cv=StratifiedKFold(n_splits=5, random_state=None, shuffle=False),\n",
       "      estimator=LogisticRegression(max_iter=1), scoring=&#x27;accuracy&#x27;)</pre><b>In a Jupyter environment, please rerun this cell to show the HTML representation or trust the notebook. <br />On GitHub, the HTML representation is unable to render, please try loading this page with nbviewer.org.</b></div><div class=\"sk-container\" hidden><div class=\"sk-item sk-dashed-wrapped\"><div class=\"sk-label-container\"><div class=\"sk-label sk-toggleable\"><input class=\"sk-toggleable__control sk-hidden--visually\" id=\"sk-estimator-id-1\" type=\"checkbox\" ><label for=\"sk-estimator-id-1\" class=\"sk-toggleable__label sk-toggleable__label-arrow\">RFECV</label><div class=\"sk-toggleable__content\"><pre>RFECV(cv=StratifiedKFold(n_splits=5, random_state=None, shuffle=False),\n",
       "      estimator=LogisticRegression(max_iter=1), scoring=&#x27;accuracy&#x27;)</pre></div></div></div><div class=\"sk-parallel\"><div class=\"sk-parallel-item\"><div class=\"sk-item\"><div class=\"sk-label-container\"><div class=\"sk-label sk-toggleable\"><input class=\"sk-toggleable__control sk-hidden--visually\" id=\"sk-estimator-id-2\" type=\"checkbox\" ><label for=\"sk-estimator-id-2\" class=\"sk-toggleable__label sk-toggleable__label-arrow\">estimator: LogisticRegression</label><div class=\"sk-toggleable__content\"><pre>LogisticRegression(max_iter=1)</pre></div></div></div><div class=\"sk-serial\"><div class=\"sk-item\"><div class=\"sk-estimator sk-toggleable\"><input class=\"sk-toggleable__control sk-hidden--visually\" id=\"sk-estimator-id-3\" type=\"checkbox\" ><label for=\"sk-estimator-id-3\" class=\"sk-toggleable__label sk-toggleable__label-arrow\">LogisticRegression</label><div class=\"sk-toggleable__content\"><pre>LogisticRegression(max_iter=1)</pre></div></div></div></div></div></div></div></div></div></div>"
      ]
     },
     "execution_count": 12,
     "metadata": {},
     "output_type": "execute_result"
    }
   ],
   "execution_count": 12
  },
  {
   "metadata": {
    "ExecuteTime": {
     "end_time": "2025-04-02T15:56:35.901027Z",
     "start_time": "2025-04-02T15:56:35.873542Z"
    }
   },
   "cell_type": "code",
   "source": [
    " # DataFrame chứa tên các đặc trưng cùng thứ hạng của chúng dựa trên kết quả từ RFECV như sau:\n",
    "feature_names = X.columns\n",
    "\n",
    "# Tạo DataFrame chứa tên đặc trưng và thứ hạng tương ứng từ RFECV\n",
    "df_features = pd.DataFrame({\n",
    "    \"Feature\": feature_names,\n",
    "    \"Ranking\": rfecv.ranking_\n",
    "})\n",
    "\n",
    "print(\"DataFrame chứa tên các đặc trưng và thứ hạng của chúng:\")\n",
    "print(df_features)"
   ],
   "id": "e4cf3e6e114a1057",
   "outputs": [
    {
     "ename": "AttributeError",
     "evalue": "'numpy.ndarray' object has no attribute 'columns'",
     "output_type": "error",
     "traceback": [
      "\u001B[1;31m---------------------------------------------------------------------------\u001B[0m",
      "\u001B[1;31mAttributeError\u001B[0m                            Traceback (most recent call last)",
      "Cell \u001B[1;32mIn[13], line 2\u001B[0m\n\u001B[0;32m      1\u001B[0m \u001B[38;5;66;03m# DataFrame chứa tên các đặc trưng cùng thứ hạng của chúng dựa trên kết quả từ RFECV như sau:\u001B[39;00m\n\u001B[1;32m----> 2\u001B[0m feature_names \u001B[38;5;241m=\u001B[39m \u001B[43mX\u001B[49m\u001B[38;5;241;43m.\u001B[39;49m\u001B[43mcolumns\u001B[49m\n\u001B[0;32m      4\u001B[0m \u001B[38;5;66;03m# Tạo DataFrame chứa tên đặc trưng và thứ hạng tương ứng từ RFECV\u001B[39;00m\n\u001B[0;32m      5\u001B[0m df_features \u001B[38;5;241m=\u001B[39m pd\u001B[38;5;241m.\u001B[39mDataFrame({\n\u001B[0;32m      6\u001B[0m    \u001B[38;5;124m\"\u001B[39m\u001B[38;5;124mFeature\u001B[39m\u001B[38;5;124m\"\u001B[39m: feature_names,\n\u001B[0;32m      7\u001B[0m    \u001B[38;5;124m\"\u001B[39m\u001B[38;5;124mRanking\u001B[39m\u001B[38;5;124m\"\u001B[39m: rfecv\u001B[38;5;241m.\u001B[39mranking_\n\u001B[0;32m      8\u001B[0m })\n",
      "\u001B[1;31mAttributeError\u001B[0m: 'numpy.ndarray' object has no attribute 'columns'"
     ]
    }
   ],
   "execution_count": 13
  },
  {
   "metadata": {
    "ExecuteTime": {
     "end_time": "2025-04-02T15:56:36.854798Z",
     "start_time": "2025-04-02T15:56:36.832798Z"
    }
   },
   "cell_type": "code",
   "source": [
    "# Ở đây, các đặc trưng được chọn sẽ có thứ hạng là 1 (vì RFECV gán thứ hạng 1 cho các đặc trưng được chọn). Bạn có thể dễ dàng lọc ra các đặc trưng được chọn bằng cách:\n",
    "\n",
    "selected_features = df_features[df_features[\"Ranking\"] == 1]\n",
    "print(\"\\nCác đặc trưng được chọn:\")\n",
    "print(selected_features)\n"
   ],
   "id": "7340d5940b617941",
   "outputs": [
    {
     "ename": "NameError",
     "evalue": "name 'df_features' is not defined",
     "output_type": "error",
     "traceback": [
      "\u001B[1;31m---------------------------------------------------------------------------\u001B[0m",
      "\u001B[1;31mNameError\u001B[0m                                 Traceback (most recent call last)",
      "Cell \u001B[1;32mIn[14], line 3\u001B[0m\n\u001B[0;32m      1\u001B[0m \u001B[38;5;66;03m# Ở đây, các đặc trưng được chọn sẽ có thứ hạng là 1 (vì RFECV gán thứ hạng 1 cho các đặc trưng được chọn). Bạn có thể dễ dàng lọc ra các đặc trưng được chọn bằng cách:\u001B[39;00m\n\u001B[1;32m----> 3\u001B[0m selected_features \u001B[38;5;241m=\u001B[39m \u001B[43mdf_features\u001B[49m[df_features[\u001B[38;5;124m\"\u001B[39m\u001B[38;5;124mRanking\u001B[39m\u001B[38;5;124m\"\u001B[39m] \u001B[38;5;241m==\u001B[39m \u001B[38;5;241m1\u001B[39m]\n\u001B[0;32m      4\u001B[0m \u001B[38;5;28mprint\u001B[39m(\u001B[38;5;124m\"\u001B[39m\u001B[38;5;130;01m\\n\u001B[39;00m\u001B[38;5;124mCác đặc trưng được chọn:\u001B[39m\u001B[38;5;124m\"\u001B[39m)\n\u001B[0;32m      5\u001B[0m \u001B[38;5;28mprint\u001B[39m(selected_features)\n",
      "\u001B[1;31mNameError\u001B[0m: name 'df_features' is not defined"
     ]
    }
   ],
   "execution_count": 14
  },
  {
   "metadata": {},
   "cell_type": "code",
   "outputs": [],
   "execution_count": null,
   "source": "",
   "id": "8400eba4e78fb386"
  }
 ],
 "metadata": {
  "kernelspec": {
   "display_name": "Python 3",
   "language": "python",
   "name": "python3"
  },
  "language_info": {
   "codemirror_mode": {
    "name": "ipython",
    "version": 2
   },
   "file_extension": ".py",
   "mimetype": "text/x-python",
   "name": "python",
   "nbconvert_exporter": "python",
   "pygments_lexer": "ipython2",
   "version": "2.7.6"
  }
 },
 "nbformat": 4,
 "nbformat_minor": 5
}
