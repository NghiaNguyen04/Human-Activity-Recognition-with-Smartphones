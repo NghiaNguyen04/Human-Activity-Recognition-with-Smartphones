{
 "cells": [
  {
   "metadata": {},
   "cell_type": "markdown",
   "source": [
    "# Train mô hình Random Forest"
   ],
   "id": "c00f63a3901833f"
  },
  {
   "metadata": {},
   "cell_type": "markdown",
   "source": "## 1. Import các thư viện",
   "id": "d5f9309e16fd7cfd"
  },
  {
   "metadata": {
    "ExecuteTime": {
     "end_time": "2025-05-14T14:29:09.937695Z",
     "start_time": "2025-05-14T14:29:08.958491Z"
    }
   },
   "cell_type": "code",
   "source": [
    "import numpy as np\n",
    "import random\n",
    "\n",
    "SEED = 42\n",
    "np.random.seed(SEED)\n",
    "random.seed(SEED)"
   ],
   "id": "4ddd25d5df34f71e",
   "outputs": [],
   "execution_count": 1
  },
  {
   "cell_type": "code",
   "id": "initial_id",
   "metadata": {
    "collapsed": true,
    "ExecuteTime": {
     "end_time": "2025-05-14T14:31:58.051440Z",
     "start_time": "2025-05-14T14:31:58.035399Z"
    }
   },
   "source": [
    "import os\n",
    "import json\n",
    "import joblib\n",
    "from sklearn.ensemble import RandomForestClassifier\n",
    "from sklearn.metrics import accuracy_score, classification_report\n",
    "import pandas as pd\n"
   ],
   "outputs": [],
   "execution_count": 9
  },
  {
   "metadata": {},
   "cell_type": "markdown",
   "source": "## 2. Load hyperparameters từ JSON",
   "id": "71f6235742cb9d6f"
  },
  {
   "metadata": {
    "ExecuteTime": {
     "end_time": "2025-05-14T14:30:31.798791Z",
     "start_time": "2025-05-14T14:30:31.782712Z"
    }
   },
   "cell_type": "code",
   "source": [
    "# Paths đến 3 file JSON\n",
    "param_files = {\n",
    "    'LabelEncoder_noSubject':   '../hyperparameter_tuning/Best_Hyperparameter/BestParameter_RandomForest_full_features.json',\n",
    "    'PCA':    '../hyperparameter_tuning/Best_Hyperparameter/BestParameter_RandomForest_PCA.json',\n",
    "    'reduced_Correlation':'../hyperparameter_tuning/Best_Hyperparameter/BestParameter_RandomForest_reduced_features.json',\n",
    "}\n",
    "\n",
    "best_params = {}\n",
    "for name, path in param_files.items():\n",
    "    with open(path, 'r', encoding='utf-8') as f:\n",
    "        best_params[name] = json.load(f)"
   ],
   "id": "7126ae45bf4a7402",
   "outputs": [],
   "execution_count": 6
  },
  {
   "metadata": {},
   "cell_type": "markdown",
   "source": "## 3. Load dữ liệu train/test",
   "id": "50349b15dd457117"
  },
  {
   "metadata": {
    "ExecuteTime": {
     "end_time": "2025-05-14T14:30:33.535300Z",
     "start_time": "2025-05-14T14:30:32.607755Z"
    }
   },
   "cell_type": "code",
   "source": [
    "data_sets = {}\n",
    "for name in ['LabelEncoder_noSubject', 'PCA', 'reduced_Correlation']:\n",
    "    df_train = pd.read_csv(f'../../data/processed/train_{name}.csv')\n",
    "    df_test  = pd.read_csv(f'../../data/processed/test_{name}.csv')\n",
    "\n",
    "    try:\n",
    "        X_train = df_train.drop(['Activity', 'Activity_code'], axis=1)\n",
    "        X_test  = df_test.drop(['Activity', 'Activity_code'], axis=1)\n",
    "    except KeyError:\n",
    "        X_train = df_train.drop('Activity_code', axis=1)\n",
    "        X_test  = df_test.drop('Activity_code', axis=1)\n",
    "\n",
    "    y_train = df_train['Activity_code']\n",
    "    y_test  = df_test['Activity_code']\n",
    "\n",
    "    data_sets[name] = (X_train, y_train, X_test, y_test)\n"
   ],
   "id": "10ff8f16ee667f53",
   "outputs": [],
   "execution_count": 7
  },
  {
   "metadata": {},
   "cell_type": "markdown",
   "source": "## 4. Huấn luyện và lưu model",
   "id": "56ecadbc2af42ab1"
  },
  {
   "metadata": {
    "ExecuteTime": {
     "end_time": "2025-05-14T14:31:21.571987Z",
     "start_time": "2025-05-14T14:30:34.598336Z"
    }
   },
   "cell_type": "code",
   "source": [
    "name_model = ['full', 'pca', 'reduced']\n",
    "for (name, params), model_name in zip(best_params.items(), name_model):\n",
    "    X_train, y_train, _, _ = data_sets[name]\n",
    "\n",
    "    model = RandomForestClassifier(\n",
    "        bootstrap=params['bootstrap'],\n",
    "        max_depth=params['max_depth'],\n",
    "        min_samples_leaf=params['min_samples_leaf'],\n",
    "        min_samples_split=params['min_samples_split']\n",
    "    )\n",
    "    model.fit(X_train, y_train)\n",
    "\n",
    "    joblib.dump(model, f'../../models/rf_{model_name}.joblib')\n",
    "    print(f\"› Saved rf_{model_name}.joblib\")\n"
   ],
   "id": "16c6e486a17cb2b3",
   "outputs": [
    {
     "name": "stdout",
     "output_type": "stream",
     "text": [
      "› Saved rf_full.joblib\n",
      "› Saved rf_pca.joblib\n",
      "› Saved rf_reduced.joblib\n"
     ]
    }
   ],
   "execution_count": 8
  },
  {
   "metadata": {},
   "cell_type": "markdown",
   "source": "## 5. Đánh giá trên tập test",
   "id": "d52d38973e303c3b"
  },
  {
   "metadata": {
    "ExecuteTime": {
     "end_time": "2025-05-14T14:32:23.563694Z",
     "start_time": "2025-05-14T14:32:23.308659Z"
    }
   },
   "cell_type": "code",
   "source": [
    "for nameModel, name in zip(name_model, ['LabelEncoder_noSubject', 'PCA', 'reduced_Correlation']):\n",
    "    _, _, X_test, y_test = data_sets[name]\n",
    "    model = joblib.load(f'../../models/rf_{nameModel}.joblib')\n",
    "\n",
    "    y_pred = model.predict(X_test)\n",
    "    print(f\"--- RF on {nameModel} features ---\")\n",
    "    print(\"Accuracy:\", accuracy_score(y_test, y_pred))\n",
    "    print(classification_report(y_test, y_pred))\n"
   ],
   "id": "f4ac03da82db773e",
   "outputs": [
    {
     "name": "stdout",
     "output_type": "stream",
     "text": [
      "--- RF on full features ---\n",
      "Accuracy: 0.9273837801153716\n",
      "              precision    recall  f1-score   support\n",
      "\n",
      "           0       1.00      1.00      1.00       537\n",
      "           1       0.93      0.91      0.92       491\n",
      "           2       0.92      0.93      0.92       532\n",
      "           3       0.88      0.97      0.92       496\n",
      "           4       0.97      0.84      0.90       420\n",
      "           5       0.88      0.90      0.89       471\n",
      "\n",
      "    accuracy                           0.93      2947\n",
      "   macro avg       0.93      0.92      0.93      2947\n",
      "weighted avg       0.93      0.93      0.93      2947\n",
      "\n",
      "--- RF on pca features ---\n",
      "Accuracy: 0.8836104513064132\n",
      "              precision    recall  f1-score   support\n",
      "\n",
      "           0       0.99      0.97      0.98       537\n",
      "           1       0.86      0.77      0.81       491\n",
      "           2       0.82      0.91      0.86       532\n",
      "           3       0.85      0.96      0.90       496\n",
      "           4       0.90      0.75      0.82       420\n",
      "           5       0.90      0.91      0.90       471\n",
      "\n",
      "    accuracy                           0.88      2947\n",
      "   macro avg       0.89      0.88      0.88      2947\n",
      "weighted avg       0.89      0.88      0.88      2947\n",
      "\n",
      "--- RF on reduced features ---\n",
      "Accuracy: 0.9284017645062775\n",
      "              precision    recall  f1-score   support\n",
      "\n",
      "           0       1.00      1.00      1.00       537\n",
      "           1       0.89      0.88      0.88       491\n",
      "           2       0.89      0.90      0.89       532\n",
      "           3       0.92      1.00      0.96       496\n",
      "           4       0.97      0.90      0.93       420\n",
      "           5       0.91      0.90      0.90       471\n",
      "\n",
      "    accuracy                           0.93      2947\n",
      "   macro avg       0.93      0.93      0.93      2947\n",
      "weighted avg       0.93      0.93      0.93      2947\n",
      "\n"
     ]
    }
   ],
   "execution_count": 11
  },
  {
   "metadata": {},
   "cell_type": "code",
   "outputs": [],
   "execution_count": null,
   "source": "",
   "id": "c1bc93024f653561"
  },
  {
   "metadata": {},
   "cell_type": "markdown",
   "source": "",
   "id": "f727416786897301"
  },
  {
   "metadata": {},
   "cell_type": "markdown",
   "source": "## 6. Tính thời gian inference trên 1 mẫu (Latency)",
   "id": "57943380f1598156"
  },
  {
   "metadata": {
    "ExecuteTime": {
     "end_time": "2025-05-14T15:15:24.853624Z",
     "start_time": "2025-05-14T15:13:51.940593Z"
    }
   },
   "cell_type": "code",
   "source": [
    "# ─── Cell: Latency Measurement Function ───────────────────────────────────────\n",
    "import time\n",
    "import numpy as np\n",
    "\n",
    "def measure_latency_highres_ms(model, X, warmup=10, repeats=1):\n",
    "    \"\"\"\n",
    "    Đo latency per–sample với độ phân giải cao, trả về kết quả bằng ms.\n",
    "\n",
    "    Thực hiện `warmup` lần predict đầu để làm nóng (cache) model.\n",
    "    Với mỗi mẫu, lặp `repeats` lần và lấy trung bình để giảm nhiễu.\n",
    "    \"\"\"\n",
    "    # Giữ X ở dạng DataFrame để tránh warning về feature_names\n",
    "    if isinstance(X, np.ndarray):\n",
    "        X_df = pd.DataFrame(X, columns=model.feature_names_in_)\n",
    "    else:\n",
    "        X_df = X.copy()\n",
    "\n",
    "    # Warm-up\n",
    "    for _ in range(warmup):\n",
    "        _ = model.predict(X_df.iloc[[0]])\n",
    "\n",
    "    times_ns = []\n",
    "    for i in range(len(X_df)):\n",
    "        sample = X_df.iloc[[i]]\n",
    "        total_ns = 0\n",
    "        for _ in range(repeats):\n",
    "            t0 = time.perf_counter_ns()\n",
    "            _ = model.predict(sample)\n",
    "            total_ns += time.perf_counter_ns() - t0\n",
    "        times_ns.append(total_ns / repeats)\n",
    "\n",
    "    times_ns = np.array(times_ns)\n",
    "    # chuyển nanô-giây -> mili-giây\n",
    "    times_ms = times_ns / 1e6\n",
    "\n",
    "    return {\n",
    "        'mean_ms': times_ms.mean(),\n",
    "        'p50_ms':  np.percentile(times_ms, 50),\n",
    "        'p95_ms':  np.percentile(times_ms, 95)\n",
    "    }\n",
    "# ─── Cell: Gọi đo latency cho từng model trên mỗi feature set ────────────────\n",
    "for data_name, model_name in zip(['LabelEncoder_noSubject', 'PCA', 'reduced_Correlation'], ['full', 'pca', 'reduced']):\n",
    "    # load model nếu cần, hoặc dùng `model` vừa train\n",
    "    model = joblib.load(f'../../models/rf_{model_name}.joblib')\n",
    "    X_test = data_sets[data_name][2]  # (X_train, y_train, X_test, y_test)\n",
    "\n",
    "    lat_ms = measure_latency_highres_ms(model, X_test, warmup=10, repeats=3)\n",
    "    print(f\"--- Latency of Random Forest on {model_name} features ---\")\n",
    "    print(f\"Mean   : {lat_ms['mean_ms']:.3f} ms\")\n",
    "    print(f\"P50    : {lat_ms['p50_ms']:.3f} ms\")\n",
    "    print(f\"P95    : {lat_ms['p95_ms']:.3f} ms\")\n"
   ],
   "id": "59804858aeb36b94",
   "outputs": [
    {
     "name": "stdout",
     "output_type": "stream",
     "text": [
      "--- Latency of Random Forest on full features ---\n",
      "Mean   : 4.173 ms\n",
      "P50    : 4.028 ms\n",
      "P95    : 4.965 ms\n",
      "--- Latency of Random Forest on pca features ---\n",
      "Mean   : 2.982 ms\n",
      "P50    : 2.914 ms\n",
      "P95    : 3.451 ms\n",
      "--- Latency of Random Forest on reduced features ---\n",
      "Mean   : 3.232 ms\n",
      "P50    : 3.165 ms\n",
      "P95    : 3.676 ms\n"
     ]
    }
   ],
   "execution_count": 13
  },
  {
   "metadata": {},
   "cell_type": "code",
   "outputs": [],
   "execution_count": null,
   "source": "",
   "id": "453f128f29780fee"
  }
 ],
 "metadata": {
  "kernelspec": {
   "display_name": "Python 3",
   "language": "python",
   "name": "python3"
  },
  "language_info": {
   "codemirror_mode": {
    "name": "ipython",
    "version": 2
   },
   "file_extension": ".py",
   "mimetype": "text/x-python",
   "name": "python",
   "nbconvert_exporter": "python",
   "pygments_lexer": "ipython2",
   "version": "2.7.6"
  }
 },
 "nbformat": 4,
 "nbformat_minor": 5
}
